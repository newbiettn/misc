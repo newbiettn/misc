{
 "cells": [
  {
   "cell_type": "code",
   "execution_count": 1,
   "id": "00632403-85e9-4340-a4be-c0cff0ac552c",
   "metadata": {},
   "outputs": [],
   "source": [
    "import json\n",
    "from pathlib import Path\n",
    "import csv\n",
    "import numpy as np\n",
    "import pandas as pd\n",
    "HUBS = Path(\"/Users/ngoc.tran/lexer/ops-data/workflows/hubs\")\n",
    "CLIENT_NAME = \"ciaa\""
   ]
  },
  {
   "cell_type": "code",
   "execution_count": 2,
   "id": "2c4888a5-1796-4789-8d28-d9c5d95a6944",
   "metadata": {},
   "outputs": [],
   "source": [
    "def format_schedule(s, client):\n",
    "    s = s[s[\"client\"] == client]\n",
    "    return s\n",
    "\n",
    "def make_cron(r):\n",
    "    if np.isnan(r.cron_optional):\n",
    "        return (f\"{r.seconds} {r.minutes} {r.hours} {r.day_of_the_month} {r.month} {r.day_of_the_week}\")\n",
    "    else:\n",
    "        return (f\"{r.seconds} {r.minutes} {r.hours} {r.day_of_the_month} {r.month} {r.day_of_the_week} {r.cron_optional}\")\n",
    "def read_schedule(schedule_path: Path):\n",
    "    with schedule_path.open(\"r\") as f:\n",
    "        return json.loads(f.read())\n",
    "\n",
    "def save_schedule(schedule_path: Path, schedule: dict):\n",
    "    with schedule_path.open(\"w\") as f:\n",
    "        return f.write(json.dumps(schedule, indent=4) + \"\\n\")"
   ]
  },
  {
   "cell_type": "code",
   "execution_count": 3,
   "id": "ab458706-e65d-4c5a-82b7-be44b64b64ac",
   "metadata": {},
   "outputs": [],
   "source": [
    "schedules = pd.read_csv(f\"csv/{CLIENT_NAME}_schedules.csv\")\n",
    "client_schedules = format_schedule(schedules, CLIENT_NAME)"
   ]
  },
  {
   "cell_type": "code",
   "execution_count": 4,
   "id": "1b72004e-9175-4ada-af8b-8ff03ccbdb06",
   "metadata": {},
   "outputs": [
    {
     "name": "stdout",
     "output_type": "stream",
     "text": [
      "'utf-8' codec can't decode byte 0x80 in position 3131: invalid start byte\n",
      "'utf-8' codec can't decode byte 0x80 in position 3131: invalid start byte\n"
     ]
    }
   ],
   "source": [
    "for hub in HUBS.iterdir():\n",
    "    if hub.is_dir():\n",
    "        schedules = hub / \"schedules\"\n",
    "        if schedules.is_dir():\n",
    "            for p in schedules.iterdir():\n",
    "                try:\n",
    "                    s = read_schedule(p)\n",
    "                    for r in client_schedules.itertuples():\n",
    "                        if str(p) == r.fname:\n",
    "                            s[\"schedule\"][\"quartz_cron_expression\"] = make_cron(r)\n",
    "                            save_schedule(p, s)\n",
    "                except Exception as e:\n",
    "                    print(e)"
   ]
  }
 ],
 "metadata": {
  "kernelspec": {
   "display_name": "Python 3 (ipykernel)",
   "language": "python",
   "name": "python3"
  },
  "language_info": {
   "codemirror_mode": {
    "name": "ipython",
    "version": 3
   },
   "file_extension": ".py",
   "mimetype": "text/x-python",
   "name": "python",
   "nbconvert_exporter": "python",
   "pygments_lexer": "ipython3",
   "version": "3.12.4"
  }
 },
 "nbformat": 4,
 "nbformat_minor": 5
}
